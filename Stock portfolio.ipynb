{
 "cells": [
  {
   "cell_type": "code",
   "execution_count": 1,
   "id": "2f48f31f-421b-4da3-a4e7-abea28e8a8f6",
   "metadata": {},
   "outputs": [
    {
     "name": "stdout",
     "output_type": "stream",
     "text": [
      "Collecting yfinance\n",
      "  Downloading yfinance-0.2.43-py2.py3-none-any.whl.metadata (11 kB)\n",
      "Requirement already satisfied: pandas in c:\\users\\saim\\anaconda3\\lib\\site-packages (2.2.2)\n",
      "Requirement already satisfied: numpy>=1.16.5 in c:\\users\\saim\\anaconda3\\lib\\site-packages (from yfinance) (1.26.4)\n",
      "Requirement already satisfied: requests>=2.31 in c:\\users\\saim\\anaconda3\\lib\\site-packages (from yfinance) (2.32.2)\n",
      "Collecting multitasking>=0.0.7 (from yfinance)\n",
      "  Downloading multitasking-0.0.11-py3-none-any.whl.metadata (5.5 kB)\n",
      "Requirement already satisfied: lxml>=4.9.1 in c:\\users\\saim\\anaconda3\\lib\\site-packages (from yfinance) (5.2.1)\n",
      "Requirement already satisfied: platformdirs>=2.0.0 in c:\\users\\saim\\anaconda3\\lib\\site-packages (from yfinance) (3.10.0)\n",
      "Requirement already satisfied: pytz>=2022.5 in c:\\users\\saim\\anaconda3\\lib\\site-packages (from yfinance) (2024.1)\n",
      "Requirement already satisfied: frozendict>=2.3.4 in c:\\users\\saim\\anaconda3\\lib\\site-packages (from yfinance) (2.4.2)\n",
      "Collecting peewee>=3.16.2 (from yfinance)\n",
      "  Downloading peewee-3.17.6.tar.gz (3.0 MB)\n",
      "     ---------------------------------------- 0.0/3.0 MB ? eta -:--:--\n",
      "     ---------------------------------------- 0.0/3.0 MB ? eta -:--:--\n",
      "     - -------------------------------------- 0.1/3.0 MB 1.3 MB/s eta 0:00:03\n",
      "     --- ------------------------------------ 0.2/3.0 MB 2.0 MB/s eta 0:00:02\n",
      "     --- ------------------------------------ 0.2/3.0 MB 2.0 MB/s eta 0:00:02\n",
      "     ------ --------------------------------- 0.5/3.0 MB 2.3 MB/s eta 0:00:02\n",
      "     -------- ------------------------------- 0.6/3.0 MB 2.3 MB/s eta 0:00:02\n",
      "     --------- ------------------------------ 0.7/3.0 MB 2.4 MB/s eta 0:00:01\n",
      "     ---------- ----------------------------- 0.8/3.0 MB 2.3 MB/s eta 0:00:01\n",
      "     ------------ --------------------------- 0.9/3.0 MB 2.3 MB/s eta 0:00:01\n",
      "     -------------- ------------------------- 1.0/3.0 MB 2.4 MB/s eta 0:00:01\n",
      "     --------------- ------------------------ 1.1/3.0 MB 2.3 MB/s eta 0:00:01\n",
      "     ---------------- ----------------------- 1.2/3.0 MB 2.3 MB/s eta 0:00:01\n",
      "     ------------------ --------------------- 1.3/3.0 MB 2.4 MB/s eta 0:00:01\n",
      "     ------------------- -------------------- 1.5/3.0 MB 2.4 MB/s eta 0:00:01\n",
      "     --------------------- ------------------ 1.6/3.0 MB 2.4 MB/s eta 0:00:01\n",
      "     ---------------------- ----------------- 1.7/3.0 MB 2.4 MB/s eta 0:00:01\n",
      "     ------------------------ --------------- 1.8/3.0 MB 2.4 MB/s eta 0:00:01\n",
      "     -------------------------- ------------- 1.9/3.0 MB 2.4 MB/s eta 0:00:01\n",
      "     --------------------------- ------------ 2.0/3.0 MB 2.4 MB/s eta 0:00:01\n",
      "     ---------------------------- ----------- 2.1/3.0 MB 2.4 MB/s eta 0:00:01\n",
      "     ------------------------------ --------- 2.2/3.0 MB 2.4 MB/s eta 0:00:01\n",
      "     ------------------------------- -------- 2.3/3.0 MB 2.4 MB/s eta 0:00:01\n",
      "     -------------------------------- ------- 2.4/3.0 MB 2.4 MB/s eta 0:00:01\n",
      "     ---------------------------------- ----- 2.5/3.0 MB 2.4 MB/s eta 0:00:01\n",
      "     ------------------------------------ --- 2.7/3.0 MB 2.4 MB/s eta 0:00:01\n",
      "     ------------------------------------- -- 2.8/3.0 MB 2.4 MB/s eta 0:00:01\n",
      "     ---------------------------------------  2.9/3.0 MB 2.4 MB/s eta 0:00:01\n",
      "     ---------------------------------------  2.9/3.0 MB 2.4 MB/s eta 0:00:01\n",
      "     ---------------------------------------- 3.0/3.0 MB 2.4 MB/s eta 0:00:00\n",
      "  Installing build dependencies: started\n",
      "  Installing build dependencies: finished with status 'done'\n",
      "  Getting requirements to build wheel: started\n",
      "  Getting requirements to build wheel: finished with status 'done'\n",
      "  Preparing metadata (pyproject.toml): started\n",
      "  Preparing metadata (pyproject.toml): finished with status 'done'\n",
      "Requirement already satisfied: beautifulsoup4>=4.11.1 in c:\\users\\saim\\anaconda3\\lib\\site-packages (from yfinance) (4.12.3)\n",
      "Collecting html5lib>=1.1 (from yfinance)\n",
      "  Downloading html5lib-1.1-py2.py3-none-any.whl.metadata (16 kB)\n",
      "Requirement already satisfied: python-dateutil>=2.8.2 in c:\\users\\saim\\anaconda3\\lib\\site-packages (from pandas) (2.9.0.post0)\n",
      "Requirement already satisfied: tzdata>=2022.7 in c:\\users\\saim\\anaconda3\\lib\\site-packages (from pandas) (2023.3)\n",
      "Requirement already satisfied: soupsieve>1.2 in c:\\users\\saim\\anaconda3\\lib\\site-packages (from beautifulsoup4>=4.11.1->yfinance) (2.5)\n",
      "Requirement already satisfied: six>=1.9 in c:\\users\\saim\\anaconda3\\lib\\site-packages (from html5lib>=1.1->yfinance) (1.16.0)\n",
      "Requirement already satisfied: webencodings in c:\\users\\saim\\anaconda3\\lib\\site-packages (from html5lib>=1.1->yfinance) (0.5.1)\n",
      "Requirement already satisfied: charset-normalizer<4,>=2 in c:\\users\\saim\\anaconda3\\lib\\site-packages (from requests>=2.31->yfinance) (2.0.4)\n",
      "Requirement already satisfied: idna<4,>=2.5 in c:\\users\\saim\\anaconda3\\lib\\site-packages (from requests>=2.31->yfinance) (3.7)\n",
      "Requirement already satisfied: urllib3<3,>=1.21.1 in c:\\users\\saim\\anaconda3\\lib\\site-packages (from requests>=2.31->yfinance) (2.2.2)\n",
      "Requirement already satisfied: certifi>=2017.4.17 in c:\\users\\saim\\anaconda3\\lib\\site-packages (from requests>=2.31->yfinance) (2024.7.4)\n",
      "Downloading yfinance-0.2.43-py2.py3-none-any.whl (84 kB)\n",
      "   ---------------------------------------- 0.0/84.6 kB ? eta -:--:--\n",
      "   ---------------------------------------- 84.6/84.6 kB 2.4 MB/s eta 0:00:00\n",
      "Downloading html5lib-1.1-py2.py3-none-any.whl (112 kB)\n",
      "   ---------------------------------------- 0.0/112.2 kB ? eta -:--:--\n",
      "   ------------------------------------ --- 102.4/112.2 kB 3.0 MB/s eta 0:00:01\n",
      "   ---------------------------------------- 112.2/112.2 kB 3.3 MB/s eta 0:00:00\n",
      "Downloading multitasking-0.0.11-py3-none-any.whl (8.5 kB)\n",
      "Building wheels for collected packages: peewee\n",
      "  Building wheel for peewee (pyproject.toml): started\n",
      "  Building wheel for peewee (pyproject.toml): finished with status 'done'\n",
      "  Created wheel for peewee: filename=peewee-3.17.6-py3-none-any.whl size=138938 sha256=b8d5e54d22ec26cd3f4939237b0681ae2c60a2e5c0b702ec3968ffd897ae0dc2\n",
      "  Stored in directory: c:\\users\\saim\\appdata\\local\\pip\\cache\\wheels\\a6\\5e\\0f\\8319805c4115320e0d3e8fb5799b114a2e4c4a3d6c7e523b06\n",
      "Successfully built peewee\n",
      "Installing collected packages: peewee, multitasking, html5lib, yfinance\n",
      "Successfully installed html5lib-1.1 multitasking-0.0.11 peewee-3.17.6 yfinance-0.2.43\n",
      "Note: you may need to restart the kernel to use updated packages.\n"
     ]
    }
   ],
   "source": [
    "pip install yfinance pandas\n"
   ]
  },
  {
   "cell_type": "code",
   "execution_count": null,
   "id": "e87dfeff-d877-4c6c-b1db-7b6d9f690a9e",
   "metadata": {},
   "outputs": [
    {
     "name": "stdout",
     "output_type": "stream",
     "text": [
      "\n",
      "Stock Portfolio Tracker\n",
      "1. Add Stock\n",
      "2. Remove Stock\n",
      "3. Track Portfolio\n",
      "4. Exit\n"
     ]
    },
    {
     "name": "stdin",
     "output_type": "stream",
     "text": [
      "Enter your choice:  1\n",
      "Enter stock symbol (e.g., AAPL):  SSAP\n",
      "Enter quantity of shares:  33\n",
      "Enter purchase price per share:  12\n"
     ]
    },
    {
     "name": "stdout",
     "output_type": "stream",
     "text": [
      "Stock SSAP already exists. Updating quantity.\n",
      "Added 33.0 shares of SSAP to portfolio.\n",
      "\n",
      "Stock Portfolio Tracker\n",
      "1. Add Stock\n",
      "2. Remove Stock\n",
      "3. Track Portfolio\n",
      "4. Exit\n"
     ]
    },
    {
     "name": "stdin",
     "output_type": "stream",
     "text": [
      "Enter your choice:  3\n"
     ]
    },
    {
     "name": "stderr",
     "output_type": "stream",
     "text": [
      "$SSAP: possibly delisted; no price data found  (period=1d) (Yahoo error = \"No data found, symbol may be delisted\")\n"
     ]
    },
    {
     "name": "stdout",
     "output_type": "stream",
     "text": [
      "Could not retrieve data for SSAP.\n",
      "\n",
      "Portfolio Performance Report:\n",
      "Empty DataFrame\n",
      "Columns: []\n",
      "Index: []\n",
      "\n",
      "Total Investment: $0.00\n",
      "Total Value: $0.00\n",
      "Total Gain/Loss: $0.00\n",
      "\n",
      "Stock Portfolio Tracker\n",
      "1. Add Stock\n",
      "2. Remove Stock\n",
      "3. Track Portfolio\n",
      "4. Exit\n"
     ]
    },
    {
     "name": "stdin",
     "output_type": "stream",
     "text": [
      "Enter your choice:  SSAP\n"
     ]
    },
    {
     "name": "stdout",
     "output_type": "stream",
     "text": [
      "Invalid choice. Please try again.\n",
      "\n",
      "Stock Portfolio Tracker\n",
      "1. Add Stock\n",
      "2. Remove Stock\n",
      "3. Track Portfolio\n",
      "4. Exit\n"
     ]
    },
    {
     "name": "stdin",
     "output_type": "stream",
     "text": [
      "Enter your choice:  3\n"
     ]
    },
    {
     "name": "stderr",
     "output_type": "stream",
     "text": [
      "$SSAP: possibly delisted; no price data found  (period=1d) (Yahoo error = \"No data found, symbol may be delisted\")\n"
     ]
    },
    {
     "name": "stdout",
     "output_type": "stream",
     "text": [
      "Could not retrieve data for SSAP.\n",
      "\n",
      "Portfolio Performance Report:\n",
      "Empty DataFrame\n",
      "Columns: []\n",
      "Index: []\n",
      "\n",
      "Total Investment: $0.00\n",
      "Total Value: $0.00\n",
      "Total Gain/Loss: $0.00\n",
      "\n",
      "Stock Portfolio Tracker\n",
      "1. Add Stock\n",
      "2. Remove Stock\n",
      "3. Track Portfolio\n",
      "4. Exit\n"
     ]
    },
    {
     "name": "stdin",
     "output_type": "stream",
     "text": [
      "Enter your choice:  2\n"
     ]
    }
   ],
   "source": [
    "import yfinance as yf\n",
    "import pandas as pd\n",
    "import json\n",
    "import os\n",
    "\n",
    "# Define the file to save portfolio data\n",
    "PORTFOLIO_FILE = 'portfolio.json'\n",
    "\n",
    "def load_portfolio():\n",
    "    \"\"\"Load the portfolio from a JSON file.\"\"\"\n",
    "    if os.path.exists(PORTFOLIO_FILE):\n",
    "        with open(PORTFOLIO_FILE, 'r') as file:\n",
    "            return json.load(file)\n",
    "    return {}\n",
    "\n",
    "def save_portfolio(portfolio):\n",
    "    \"\"\"Save the portfolio to a JSON file.\"\"\"\n",
    "    with open(PORTFOLIO_FILE, 'w') as file:\n",
    "        json.dump(portfolio, file)\n",
    "\n",
    "def add_stock(symbol, quantity, purchase_price):\n",
    "    \"\"\"Add a stock to the portfolio.\"\"\"\n",
    "    portfolio = load_portfolio()\n",
    "    if symbol in portfolio:\n",
    "        print(f\"Stock {symbol} already exists. Updating quantity.\")\n",
    "        portfolio[symbol]['quantity'] += quantity\n",
    "        portfolio[symbol]['purchase_price'] = purchase_price\n",
    "    else:\n",
    "        portfolio[symbol] = {\n",
    "            'quantity': quantity,\n",
    "            'purchase_price': purchase_price\n",
    "        }\n",
    "    save_portfolio(portfolio)\n",
    "    print(f\"Added {quantity} shares of {symbol} to portfolio.\")\n",
    "\n",
    "def remove_stock(symbol):\n",
    "    \"\"\"Remove a stock from the portfolio.\"\"\"\n",
    "    portfolio = load_portfolio()\n",
    "    if symbol in portfolio:\n",
    "        del portfolio[symbol]\n",
    "        save_portfolio(portfolio)\n",
    "        print(f\"Removed {symbol} from portfolio.\")\n",
    "    else:\n",
    "        print(f\"Stock {symbol} not found in portfolio.\")\n",
    "\n",
    "def get_stock_data(symbol):\n",
    "    \"\"\"Fetch real-time stock data.\"\"\"\n",
    "    stock = yf.Ticker(symbol)\n",
    "    data = stock.history(period='1d')\n",
    "    if not data.empty:\n",
    "        return data['Close'].iloc[-1]\n",
    "    return None\n",
    "\n",
    "def track_portfolio():\n",
    "    \"\"\"Track and display the performance of the portfolio.\"\"\"\n",
    "    portfolio = load_portfolio()\n",
    "    if not portfolio:\n",
    "        print(\"No stocks in the portfolio.\")\n",
    "        return\n",
    "    \n",
    "    total_investment = 0\n",
    "    total_value = 0\n",
    "    report = []\n",
    "    \n",
    "    for symbol, info in portfolio.items():\n",
    "        current_price = get_stock_data(symbol)\n",
    "        if current_price:\n",
    "            quantity = info['quantity']\n",
    "            purchase_price = info['purchase_price']\n",
    "            investment = quantity * purchase_price\n",
    "            value = quantity * current_price\n",
    "            gain_loss = value - investment\n",
    "            \n",
    "            total_investment += investment\n",
    "            total_value += value\n",
    "            \n",
    "            report.append({\n",
    "                'symbol': symbol,\n",
    "                'quantity': quantity,\n",
    "                'purchase_price': purchase_price,\n",
    "                'current_price': current_price,\n",
    "                'investment': investment,\n",
    "                'value': value,\n",
    "                'gain_loss': gain_loss\n",
    "            })\n",
    "        else:\n",
    "            print(f\"Could not retrieve data for {symbol}.\")\n",
    "    \n",
    "    df = pd.DataFrame(report)\n",
    "    print(\"\\nPortfolio Performance Report:\")\n",
    "    print(df)\n",
    "    print(f\"\\nTotal Investment: ${total_investment:.2f}\")\n",
    "    print(f\"Total Value: ${total_value:.2f}\")\n",
    "    print(f\"Total Gain/Loss: ${total_value - total_investment:.2f}\")\n",
    "\n",
    "if __name__ == \"__main__\":\n",
    "    while True:\n",
    "        print(\"\\nStock Portfolio Tracker\")\n",
    "        print(\"1. Add Stock\")\n",
    "        print(\"2. Remove Stock\")\n",
    "        print(\"3. Track Portfolio\")\n",
    "        print(\"4. Exit\")\n",
    "        choice = input(\"Enter your choice: \").strip()\n",
    "        \n",
    "        if choice == '1':\n",
    "            symbol = input(\"Enter stock symbol (e.g., AAPL): \").strip().upper()\n",
    "            quantity = float(input(\"Enter quantity of shares: \").strip())\n",
    "            purchase_price = float(input(\"Enter purchase price per share: \").strip())\n",
    "            add_stock(symbol, quantity, purchase_price)\n",
    "        \n",
    "        elif choice == '2':\n",
    "            symbol = input(\"Enter stock symbol to remove (e.g., AAPL): \").strip().upper()\n",
    "            remove_stock(symbol)\n",
    "        \n",
    "        elif choice == '3':\n",
    "            track_portfolio()\n",
    "        \n",
    "        elif choice == '4':\n",
    "            print(\"Exiting...\")\n",
    "            break\n",
    "        \n",
    "        else:\n",
    "            print(\"Invalid choice. Please try again.\")\n"
   ]
  },
  {
   "cell_type": "code",
   "execution_count": null,
   "id": "dc19be27-1d18-437f-9a31-980e5a03e4ed",
   "metadata": {},
   "outputs": [],
   "source": []
  }
 ],
 "metadata": {
  "kernelspec": {
   "display_name": "Python 3 (ipykernel)",
   "language": "python",
   "name": "python3"
  },
  "language_info": {
   "codemirror_mode": {
    "name": "ipython",
    "version": 3
   },
   "file_extension": ".py",
   "mimetype": "text/x-python",
   "name": "python",
   "nbconvert_exporter": "python",
   "pygments_lexer": "ipython3",
   "version": "3.12.4"
  }
 },
 "nbformat": 4,
 "nbformat_minor": 5
}
